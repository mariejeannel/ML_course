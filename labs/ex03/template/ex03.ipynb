{
 "cells": [
  {
   "cell_type": "code",
   "execution_count": 1,
   "metadata": {
    "collapsed": true
   },
   "outputs": [],
   "source": [
    "# Useful starting lines\n",
    "%matplotlib inline\n",
    "import numpy as np\n",
<<<<<<< HEAD
    "import matplotlib.pyplot as plt\n"
   ]
  },
  {
   "cell_type": "code",
   "execution_count": 2,
   "metadata": {},
   "outputs": [
    {
     "name": "stderr",
     "output_type": "stream",
     "text": [
      "ERROR:root:Line magic function `%autoreload` not found.\n"
     ]
    }
   ],
   "source": [
    "%autoreload 2import datetime\n",
    "from helpers import *\n"
=======
    "import matplotlib.pyplot as plt\n",
    "%load_ext autoreload\n",
    "%autoreload 2"
>>>>>>> upstream/master
   ]
  },
  {
   "cell_type": "markdown",
   "metadata": {},
   "source": [
    "# 1 Least squares and linear basis functions models\n",
    "## 1.1 Least squares"
   ]
  },
  {
   "cell_type": "code",
<<<<<<< HEAD
   "execution_count": 3,
=======
   "execution_count": 2,
>>>>>>> upstream/master
   "metadata": {
    "collapsed": true
   },
   "outputs": [],
   "source": [
    "def least_squares(y, tx):\n",
    "    \"\"\"calculate the least squares solution.\"\"\"\n",
<<<<<<< HEAD
    "    #w = np.dot(np.dot(np.linalg.inv(np.dot(np.transpose(tx),tx)),np.transpose(tx)),y)\n",
    "    w = np.linalg.solve(np.dot(np.transpose(tx),tx),np.dot(np.transpose(tx),y))\n",
    "    error = y - np.dot(tx,w)\n",
    "    return w,error"
   ]
  },
  {
   "cell_type": "code",
   "execution_count": null,
   "metadata": {
    "collapsed": true
   },
   "outputs": [],
   "source": []
  },
  {
=======
    "    # ***************************************************\n",
    "    # INSERT YOUR CODE HERE\n",
    "    # least squares: TODO\n",
    "    # returns mse, and optimal weights\n",
    "    # ***************************************************\n",
    "    raise NotImplementedError"
   ]
  },
  {
>>>>>>> upstream/master
   "cell_type": "markdown",
   "metadata": {},
   "source": [
    "### Load the data\n",
    "Here we will reuse the dataset `height_weight_genders.csv` from previous exercise section to check the correctness of your implementation. Please compare it with your previous result."
   ]
  },
  {
   "cell_type": "code",
   "execution_count": 4,
<<<<<<< HEAD
   "metadata": {
    "collapsed": true
   },
=======
   "metadata": {},
>>>>>>> upstream/master
   "outputs": [],
   "source": [
    "from helpers import *\n",
    "def test_your_least_squares():\n",
    "    height, weight, gender = load_data_from_ex02(sub_sample=False, add_outlier=False)\n",
    "    x, mean_x, std_x = standardize(height)\n",
    "    y, tx = build_model_data(x, weight)\n",
    "    # ***************************************************\n",
    "    # INSERT YOUR CODE HERE\n",
    "    # least square or grid search: TODO\n",
    "    # this code should compare the optimal weights obtained \n",
    "    # by least squares vs. grid search\n",
    "    # ***************************************************\n",
<<<<<<< HEAD
    "    height, weight, gender = load_data_from_ex02(sub_sample=False, add_outlier=False)\n",
    "    x, mean_x, std_x = standardize(height)\n",
    "    y, tx = build_model_data(x, weight)\n",
    "    print(least_squares(y,tx))"
=======
    "    raise NotImplementedError"
>>>>>>> upstream/master
   ]
  },
  {
   "cell_type": "markdown",
   "metadata": {},
   "source": [
    "Test it here"
   ]
  },
  {
   "cell_type": "code",
   "execution_count": 5,
   "metadata": {},
   "outputs": [
    {
<<<<<<< HEAD
     "name": "stdout",
     "output_type": "stream",
     "text": [
      "(array([ 73.293922  ,  13.47971243]), array([ 10.3203658 ,  -8.06398145,  -3.83673268, ...,  -6.20852099,\n",
      "        -8.248026  ,  -6.19949197]))\n"
=======
     "ename": "NotImplementedError",
     "evalue": "",
     "output_type": "error",
     "traceback": [
      "\u001b[0;31m---------------------------------------------------------------------------\u001b[0m",
      "\u001b[0;31mNotImplementedError\u001b[0m                       Traceback (most recent call last)",
      "\u001b[0;32m<ipython-input-5-2af43af30d02>\u001b[0m in \u001b[0;36m<module>\u001b[0;34m()\u001b[0m\n\u001b[0;32m----> 1\u001b[0;31m \u001b[0mtest_your_least_squares\u001b[0m\u001b[0;34m(\u001b[0m\u001b[0;34m)\u001b[0m\u001b[0;34m\u001b[0m\u001b[0m\n\u001b[0m",
      "\u001b[0;32m<ipython-input-4-87b4b7743ed2>\u001b[0m in \u001b[0;36mtest_your_least_squares\u001b[0;34m()\u001b[0m\n\u001b[1;32m     10\u001b[0m     \u001b[0;31m# by least squares vs. grid search\u001b[0m\u001b[0;34m\u001b[0m\u001b[0;34m\u001b[0m\u001b[0m\n\u001b[1;32m     11\u001b[0m     \u001b[0;31m# ***************************************************\u001b[0m\u001b[0;34m\u001b[0m\u001b[0;34m\u001b[0m\u001b[0m\n\u001b[0;32m---> 12\u001b[0;31m     \u001b[0;32mraise\u001b[0m \u001b[0mNotImplementedError\u001b[0m\u001b[0;34m\u001b[0m\u001b[0m\n\u001b[0m",
      "\u001b[0;31mNotImplementedError\u001b[0m: "
>>>>>>> upstream/master
     ]
    }
   ],
   "source": [
    "test_your_least_squares()"
   ]
  },
  {
   "cell_type": "markdown",
   "metadata": {},
   "source": [
    "## 1.2 Least squares with a linear basis function model\n",
    "Start from this section, we will use the dataset `dataEx3.csv`.\n",
    "\n",
    "### Implement polynomial basis functions"
   ]
  },
  {
   "cell_type": "code",
<<<<<<< HEAD
   "execution_count": 6,
   "metadata": {
    "scrolled": true
   },
   "outputs": [
    {
     "name": "stdout",
     "output_type": "stream",
     "text": [
      "shape of x (50,)\n",
      "shape of y (50,)\n"
     ]
    }
   ],
=======
   "execution_count": null,
   "metadata": {
    "scrolled": true
   },
   "outputs": [],
>>>>>>> upstream/master
   "source": [
    "# load dataset\n",
    "x, y = load_data()\n",
    "print(\"shape of x {}\".format(x.shape))\n",
<<<<<<< HEAD
    "#(50,) -> ligne\n",
=======
>>>>>>> upstream/master
    "print(\"shape of y {}\".format(y.shape))"
   ]
  },
  {
   "cell_type": "code",
<<<<<<< HEAD
   "execution_count": 7,
=======
   "execution_count": null,
>>>>>>> upstream/master
   "metadata": {
    "collapsed": true
   },
   "outputs": [],
   "source": [
    "def build_poly(x, degree):\n",
    "    \"\"\"polynomial basis functions for input data x, for j=0 up to j=degree.\"\"\"\n",
<<<<<<< HEAD
    "    toReturn = []\n",
    "    for j in range(0,degree+1):\n",
    "        toReturn = np.append(toReturn,np.power(x,j))\n",
    "        \n",
    "       \n",
    "    return np.transpose(np.reshape(toReturn,(degree+1,len(x))))\n",
    "        \n",
=======
>>>>>>> upstream/master
    "    # ***************************************************\n",
    "    # INSERT YOUR CODE HERE\n",
    "    # polynomial basis function: TODO\n",
    "    # this function should return the matrix formed\n",
    "    # by applying the polynomial basis to the input data\n",
    "    # ***************************************************\n",
    "    raise NotImplementedError"
   ]
  },
  {
<<<<<<< HEAD
   "cell_type": "code",
   "execution_count": 8,
   "metadata": {},
   "outputs": [
    {
     "data": {
      "text/plain": [
       "array([[   1.,    1.,    1.,    1.],\n",
       "       [   1.,    2.,    4.,    8.],\n",
       "       [   1.,    3.,    9.,   27.],\n",
       "       [   1.,    8.,   64.,  512.]])"
      ]
     },
     "execution_count": 8,
     "metadata": {},
     "output_type": "execute_result"
    }
   ],
   "source": [
    "build_poly([1,2,3,8],3)"
   ]
  },
  {
   "cell_type": "code",
   "execution_count": 9,
   "metadata": {
    "collapsed": true
   },
   "outputs": [],
   "source": [
    "def compute_mse(y, tx, w):\n",
    "    \"\"\"Calculate the loss.\n",
    "\n",
    "    You can calculate the loss using mse or mae.\n",
    "    \"\"\"\n",
    "    n = len(y)\n",
    "    e = y - np.dot(tx,w)\n",
    "    return np.dot(np.transpose(e),e)/(2*n)"
   ]
  },
  {
=======
>>>>>>> upstream/master
   "cell_type": "markdown",
   "metadata": {},
   "source": [
    "Let us play with polynomial regression. Note that we will use your implemented function `compute_mse`. Please copy and paste your implementation from exercise02."
   ]
  },
  {
   "cell_type": "code",
<<<<<<< HEAD
   "execution_count": 10,
=======
   "execution_count": null,
>>>>>>> upstream/master
   "metadata": {
    "collapsed": true
   },
   "outputs": [],
   "source": [
<<<<<<< HEAD
    "from plots import *\n",
    "x_prime= np.transpose([np.ones(len(x)), x])\n",
=======
    "from costs import compute_mse\n",
    "from plots import *\n",
    "\n",
>>>>>>> upstream/master
    "def polynomial_regression():\n",
    "    \"\"\"Constructing the polynomial basis function expansion of the data,\n",
    "       and then running least squares regression.\"\"\"\n",
    "    # define parameters\n",
    "    degrees = [1, 3, 7, 12]\n",
    "    \n",
    "    # define the structure of the figure\n",
    "    num_row = 2\n",
    "    num_col = 2\n",
    "    f, axs = plt.subplots(num_row, num_col)\n",
    "\n",
    "    for ind, degree in enumerate(degrees):\n",
    "        # ***************************************************\n",
    "        # INSERT YOUR CODE HERE\n",
    "        # form the data to do polynomial regression.: TODO\n",
    "        # ***************************************************\n",
<<<<<<< HEAD
    "        tmp = build_poly(x,degree)\n",
=======
    "        raise NotImplementedError\n",
>>>>>>> upstream/master
    "        # ***************************************************\n",
    "        # INSERT YOUR CODE HERE\n",
    "        # least square and calculate RMSE: TODO\n",
    "        # ***************************************************\n",
<<<<<<< HEAD
    "        l_s = least_squares(y,tmp)\n",
    "        weights = l_s[0]\n",
    "        rmse = compute_mse(y,tmp,weights)\n",
=======
    "        raise NotImplementedError\n",
>>>>>>> upstream/master
    "\n",
    "        print(\"Processing {i}th experiment, degree={d}, rmse={loss}\".format(\n",
    "              i=ind + 1, d=degree, loss=rmse))\n",
    "        # plot fit\n",
    "        plot_fitted_curve(\n",
    "            y, x, weights, degree, axs[ind // num_col][ind % num_col])\n",
    "    plt.tight_layout()\n",
    "    plt.savefig(\"visualize_polynomial_regression\")\n",
    "    plt.show()"
   ]
  },
  {
   "cell_type": "markdown",
   "metadata": {},
   "source": [
    "Run polynomial regression"
   ]
  },
  {
   "cell_type": "code",
<<<<<<< HEAD
   "execution_count": 11,
   "metadata": {},
   "outputs": [
    {
     "name": "stdout",
     "output_type": "stream",
     "text": [
      "Processing 1th experiment, degree=1, rmse=0.11133351726547978\n",
      "Processing 2th experiment, degree=3, rmse=0.03343252619709059\n",
      "Processing 3th experiment, degree=7, rmse=0.031164734143881684\n",
      "Processing 4th experiment, degree=12, rmse=0.029102584368303284\n"
     ]
    },
    {
     "data": {
      "image/png": "iVBORw0KGgoAAAANSUhEUgAAAagAAAEYCAYAAAAJeGK1AAAABHNCSVQICAgIfAhkiAAAAAlwSFlz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\nAcpgMBgMOZL/BxMKOII8HPa5AAAAAElFTkSuQmCC\n",
      "text/plain": [
       "<matplotlib.figure.Figure at 0x107e22dd8>"
      ]
     },
     "metadata": {},
     "output_type": "display_data"
=======
   "execution_count": 6,
   "metadata": {},
   "outputs": [
    {
     "ename": "NameError",
     "evalue": "name 'polynomial_regression' is not defined",
     "output_type": "error",
     "traceback": [
      "\u001b[0;31m---------------------------------------------------------------------------\u001b[0m",
      "\u001b[0;31mNameError\u001b[0m                                 Traceback (most recent call last)",
      "\u001b[0;32m<ipython-input-6-72f17602a742>\u001b[0m in \u001b[0;36m<module>\u001b[0;34m()\u001b[0m\n\u001b[0;32m----> 1\u001b[0;31m \u001b[0mpolynomial_regression\u001b[0m\u001b[0;34m(\u001b[0m\u001b[0;34m)\u001b[0m\u001b[0;34m\u001b[0m\u001b[0m\n\u001b[0m",
      "\u001b[0;31mNameError\u001b[0m: name 'polynomial_regression' is not defined"
     ]
>>>>>>> upstream/master
    }
   ],
   "source": [
    "polynomial_regression()"
   ]
  },
  {
   "cell_type": "markdown",
   "metadata": {},
   "source": [
    "# 2 Evaluating model predication performance\n",
    "\n",
    "\n",
    "Let us show the train and test splits for various polynomial degrees. First of all, please fill in the function `split_data()`"
   ]
  },
  {
   "cell_type": "code",
<<<<<<< HEAD
   "execution_count": 12,
=======
   "execution_count": null,
>>>>>>> upstream/master
   "metadata": {
    "collapsed": true
   },
   "outputs": [],
   "source": [
    "def split_data(x, y, ratio, seed=1):\n",
    "    \"\"\"\n",
    "    split the dataset based on the split ratio. If ratio is 0.8 \n",
    "    you will have 80% of your data set dedicated to training \n",
    "    and the rest dedicated to testing\n",
    "    \"\"\"\n",
    "    # set seed\n",
<<<<<<< HEAD
    "    new = np.transpose([x,y])\n",
    "    np.random.seed(seed)\n",
    "    np.random.shuffle(new)\n",
    "    x_new = np.transpose(new)[0]\n",
    "    y_new = np.transpose(new)[1]\n",
    "    lenght = len(x)\n",
    "    lenght_table = lenght - 1\n",
    "    index = int(np.round(ratio * len(x)))\n",
    "    y_training = y_new[0:index]\n",
    "    x_training = x_new[0:index]\n",
    "    y_test = y_new[index:lenght_table]\n",
    "    x_test=x_new[index:lenght_table]\n",
    "    return x_training,y_training,x_test,y_test\n",
=======
    "    np.random.seed(seed)\n",
>>>>>>> upstream/master
    "    # ***************************************************\n",
    "    # INSERT YOUR CODE HERE\n",
    "    # split the data based on the given ratio: TODO\n",
    "    # ***************************************************\n",
    "    raise NotImplementedError"
   ]
  },
  {
   "cell_type": "markdown",
   "metadata": {},
   "source": [
    "Then, test your `split_data` function below."
   ]
  },
  {
   "cell_type": "code",
<<<<<<< HEAD
   "execution_count": 13,
=======
   "execution_count": null,
>>>>>>> upstream/master
   "metadata": {
    "collapsed": true
   },
   "outputs": [],
   "source": [
    "def train_test_split_demo(x, y, degree, ratio, seed):\n",
    "    \"\"\"polynomial regression with different split ratios and different degrees.\"\"\"\n",
    "    # ***************************************************\n",
    "    # INSERT YOUR CODE HERE\n",
    "    # split the data, and return train and test data: TODO\n",
    "    # ***************************************************\n",
<<<<<<< HEAD
    "    x_training,y_training,x_test,y_test = split_data(x,y,ratio,seed)\n",
    "    # ***************************************************\n",
    "    x_training_poly = build_poly(x_training,degree)\n",
    "    x_test_poly = build_poly(x_test,degree)\n",
    "    # INSERT YOUR CODE HERE\n",
    "    # form train and test data with polynomial basis function: TODO\n",
    "    # ***************************************************\n",
=======
    "    raise NotImplementedError\n",
    "    # ***************************************************\n",
    "    # INSERT YOUR CODE HERE\n",
    "    # form train and test data with polynomial basis function: TODO\n",
    "    # ***************************************************\n",
    "    raise NotImplementedError\n",
>>>>>>> upstream/master
    "    # ***************************************************\n",
    "    # INSERT YOUR CODE HERE\n",
    "    # calcualte weight through least square.: TODO\n",
    "    # ***************************************************\n",
<<<<<<< HEAD
    "    l_s_training = least_squares(y_training,x_training_poly)\n",
    "    weights_training = l_s_training[0]\n",
    "    l_s_test = least_squares(y_test,x_test_poly)\n",
    "    weights_test = l_s_test[0]\n",
    "    rmse_tr = np.sqrt(2*compute_mse(y_training,x_training_poly,weights_training))\n",
    "    rmse_te = np.sqrt(2*compute_mse(y_test,x_test_poly,weights_training))\n",
=======
    "    raise NotImplementedError\n",
>>>>>>> upstream/master
    "    # ***************************************************\n",
    "    # INSERT YOUR CODE HERE\n",
    "    # calculate RMSE for train and test data,\n",
    "    # and store them in rmse_tr and rmse_te respectively: TODO\n",
    "    # ***************************************************\n",
<<<<<<< HEAD
=======
    "    raise NotImplementedError\n",
>>>>>>> upstream/master
    "    print(\"proportion={p}, degree={d}, Training RMSE={tr:.3f}, Testing RMSE={te:.3f}\".format(\n",
    "          p=ratio, d=degree, tr=rmse_tr, te=rmse_te))\n"
   ]
  },
  {
   "cell_type": "code",
<<<<<<< HEAD
   "execution_count": 14,
   "metadata": {},
   "outputs": [
    {
     "name": "stdout",
     "output_type": "stream",
     "text": [
      "proportion=0.9, degree=1, Training RMSE=0.494, Testing RMSE=0.165\n",
      "proportion=0.9, degree=3, Training RMSE=0.264, Testing RMSE=0.216\n",
      "proportion=0.9, degree=7, Training RMSE=0.254, Testing RMSE=0.245\n",
      "proportion=0.9, degree=12, Training RMSE=0.278, Testing RMSE=0.387\n",
      "proportion=0.5, degree=1, Training RMSE=0.455, Testing RMSE=0.536\n",
      "proportion=0.5, degree=3, Training RMSE=0.239, Testing RMSE=0.299\n",
      "proportion=0.5, degree=7, Training RMSE=0.232, Testing RMSE=0.289\n",
      "proportion=0.5, degree=12, Training RMSE=0.205, Testing RMSE=1.287\n",
      "proportion=0.1, degree=1, Training RMSE=0.428, Testing RMSE=0.540\n",
      "proportion=0.1, degree=3, Training RMSE=0.085, Testing RMSE=0.457\n",
      "proportion=0.1, degree=7, Training RMSE=0.000, Testing RMSE=2.183\n",
      "proportion=0.1, degree=12, Training RMSE=0.000, Testing RMSE=3.061\n"
     ]
    }
   ],
=======
   "execution_count": null,
   "metadata": {
    "collapsed": true
   },
   "outputs": [],
>>>>>>> upstream/master
   "source": [
    "seed = 6\n",
    "degrees = [1, 3, 7, 12]\n",
    "split_ratios = [0.9, 0.5, 0.1]\n",
    "\n",
    "for split_ratio in split_ratios:\n",
    "    for degree in degrees:\n",
    "        train_test_split_demo(x, y, degree, split_ratio, seed)"
   ]
  },
  {
   "cell_type": "markdown",
   "metadata": {},
   "source": [
    "# 3 Ridge Regression\n",
    "Please fill in the function below."
   ]
  },
  {
   "cell_type": "code",
<<<<<<< HEAD
   "execution_count": 15,
=======
   "execution_count": null,
>>>>>>> upstream/master
   "metadata": {
    "collapsed": true
   },
   "outputs": [],
   "source": [
    "def ridge_regression(y, tx, lambda_):\n",
    "    \"\"\"implement ridge regression.\"\"\"\n",
    "    # ***************************************************\n",
    "    # INSERT YOUR CODE HERE\n",
    "    # ridge regression: TODO\n",
    "    # ***************************************************\n",
<<<<<<< HEAD
    "    return np.linalg.solve(np.dot(np.transpose(tx),tx)+((2*len(y)*lambda_)*np.identity(tx.shape[1])),np.dot(np.transpose(tx),y))\n",
    "    #return np.dot(np.dot(np.linalg.inv(np.dot(np.transpose(tx),tx)+(2*len(y)*lambda_)*np.identity(tx.shape[1])),np.transpose(tx)),y)"
=======
    "    raise NotImplementedError"
>>>>>>> upstream/master
   ]
  },
  {
   "cell_type": "code",
<<<<<<< HEAD
   "execution_count": 16,
=======
   "execution_count": null,
>>>>>>> upstream/master
   "metadata": {
    "collapsed": true
   },
   "outputs": [],
   "source": [
    "def ridge_regression_demo(x, y, degree, ratio, seed):\n",
    "    \"\"\"ridge regression demo.\"\"\"\n",
    "    # define parameter\n",
    "    lambdas = np.logspace(-5, 0, 15)\n",
    "    # ***************************************************\n",
    "    # INSERT YOUR CODE HERE\n",
    "    # split the data, and return train and test data: TODO\n",
    "    # ***************************************************\n",
<<<<<<< HEAD
    "    x_training,y_training,x_test,y_test = split_data(x,y,ratio,seed)\n",
=======
    "    raise NotImplementedError\n",
>>>>>>> upstream/master
    "    # ***************************************************\n",
    "    # INSERT YOUR CODE HERE\n",
    "    # form train and test data with polynomial basis function: TODO\n",
    "    # ***************************************************\n",
<<<<<<< HEAD
    "    x_training_poly = build_poly(x_training,degree)\n",
    "    x_test_poly = build_poly(x_test,degree)\n",
    "    rmse_tr= []\n",
    "    rmse_te= []\n",
    "\n",
    "    for ind, lambda_ in enumerate(lambdas):\n",
    "        weights_training = ridge_regression(y_training,x_training_poly,lambda_)\n",
    "        weights_test = ridge_regression(y_test,x_test_poly,lambda_)\n",
    "        rmse_tr = np.append(rmse_tr,np.sqrt(2*compute_mse(y_training,x_training_poly,weights_training)))\n",
    "        rmse_te = np.append(rmse_te,np.sqrt(2*compute_mse(y_test,x_test_poly,weights_training)))\n",
=======
    "    raise NotImplementedError\n",
    "\n",
    "    rmse_tr = []\n",
    "    rmse_te = []\n",
    "    for ind, lambda_ in enumerate(lambdas):\n",
>>>>>>> upstream/master
    "        # ***************************************************\n",
    "        # INSERT YOUR CODE HERE\n",
    "        # ridge regression with a given lambda\n",
    "        # ***************************************************\n",
    "        print(\"proportion={p}, degree={d}, lambda={l:.3f}, Training RMSE={tr:.3f}, Testing RMSE={te:.3f}\".format(\n",
    "               p=ratio, d=degree, l=lambda_, tr=rmse_tr[ind], te=rmse_te[ind]))\n",
    "        \n",
    "    # Plot the obtained results\n",
    "    plot_train_test(rmse_tr, rmse_te, lambdas, degree)\n",
<<<<<<< HEAD
    "\n"
=======
    "\n",
    "    raise NotImplementedError\n"
>>>>>>> upstream/master
   ]
  },
  {
   "cell_type": "code",
<<<<<<< HEAD
   "execution_count": 18,
   "metadata": {},
   "outputs": [
    {
     "name": "stdout",
     "output_type": "stream",
     "text": [
      "proportion=0.5, degree=7, lambda=0.000, Training RMSE=0.227, Testing RMSE=0.344\n",
      "proportion=0.5, degree=7, lambda=0.000, Training RMSE=0.227, Testing RMSE=0.344\n",
      "proportion=0.5, degree=7, lambda=0.000, Training RMSE=0.227, Testing RMSE=0.343\n",
      "proportion=0.5, degree=7, lambda=0.000, Training RMSE=0.227, Testing RMSE=0.342\n",
      "proportion=0.5, degree=7, lambda=0.000, Training RMSE=0.228, Testing RMSE=0.341\n",
      "proportion=0.5, degree=7, lambda=0.001, Training RMSE=0.228, Testing RMSE=0.340\n",
      "proportion=0.5, degree=7, lambda=0.001, Training RMSE=0.229, Testing RMSE=0.336\n",
      "proportion=0.5, degree=7, lambda=0.003, Training RMSE=0.230, Testing RMSE=0.325\n",
      "proportion=0.5, degree=7, lambda=0.007, Training RMSE=0.232, Testing RMSE=0.307\n",
      "proportion=0.5, degree=7, lambda=0.016, Training RMSE=0.237, Testing RMSE=0.284\n",
      "proportion=0.5, degree=7, lambda=0.037, Training RMSE=0.246, Testing RMSE=0.272\n",
      "proportion=0.5, degree=7, lambda=0.085, Training RMSE=0.264, Testing RMSE=0.287\n",
      "proportion=0.5, degree=7, lambda=0.193, Training RMSE=0.291, Testing RMSE=0.331\n",
      "proportion=0.5, degree=7, lambda=0.439, Training RMSE=0.317, Testing RMSE=0.379\n",
      "proportion=0.5, degree=7, lambda=1.000, Training RMSE=0.336, Testing RMSE=0.417\n"
     ]
    },
    {
     "data": {
      "image/png": "iVBORw0KGgoAAAANSUhEUgAAAZIAAAEaCAYAAAA7YdFPAAAABHNCSVQICAgIfAhkiAAAAAlwSFlz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\nOefKxAOJc865Mvl/vBJ20vkETNQAAAAASUVORK5CYII=\n",
      "text/plain": [
       "<matplotlib.figure.Figure at 0x111810320>"
      ]
     },
     "metadata": {},
     "output_type": "display_data"
    }
   ],
=======
   "execution_count": null,
   "metadata": {
    "collapsed": true
   },
   "outputs": [],
>>>>>>> upstream/master
   "source": [
    "seed = 56\n",
    "degree = 7\n",
    "split_ratio = 0.5\n",
    "ridge_regression_demo(x, y, degree, split_ratio, seed)"
   ]
<<<<<<< HEAD
  },
  {
   "cell_type": "code",
   "execution_count": null,
   "metadata": {
    "collapsed": true
   },
   "outputs": [],
   "source": []
  },
  {
   "cell_type": "code",
   "execution_count": null,
   "metadata": {
    "collapsed": true
   },
   "outputs": [],
   "source": []
  },
  {
   "cell_type": "code",
   "execution_count": null,
   "metadata": {
    "collapsed": true
   },
   "outputs": [],
   "source": []
=======
>>>>>>> upstream/master
  }
 ],
 "metadata": {
  "anaconda-cloud": {},
  "kernelspec": {
   "display_name": "Python 3",
   "language": "python",
   "name": "python3"
  },
  "language_info": {
   "codemirror_mode": {
    "name": "ipython",
    "version": 3
   },
   "file_extension": ".py",
   "mimetype": "text/x-python",
   "name": "python",
   "nbconvert_exporter": "python",
   "pygments_lexer": "ipython3",
   "version": "3.6.1"
  }
 },
 "nbformat": 4,
 "nbformat_minor": 1
}
